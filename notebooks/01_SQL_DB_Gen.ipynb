{
 "cells": [
  {
   "cell_type": "markdown",
   "metadata": {},
   "source": [
    "# 💾 Generate Database \n",
    "In this notebook, `phase 1` we will load data and generate a database to help data strage and data retrieval.\n",
    "\n",
    "Data taken from : [Instacart](https://www.kaggle.com/c/instacart-market-basket-analysis/data)\n"
   ]
  },
  {
   "cell_type": "code",
   "execution_count": 1,
   "metadata": {},
   "outputs": [],
   "source": [
    "import pandas as pd\n",
    "import os\n",
    "import duckdb"
   ]
  },
  {
   "cell_type": "code",
   "execution_count": 2,
   "metadata": {},
   "outputs": [],
   "source": [
    "from rankmc.data.etl import datafile_path_finder"
   ]
  },
  {
   "cell_type": "markdown",
   "metadata": {},
   "source": [
    "## Get path from data folder"
   ]
  },
  {
   "cell_type": "code",
   "execution_count": 3,
   "metadata": {},
   "outputs": [],
   "source": [
    "data_dir = datafile_path_finder('')\n",
    "os.chdir(data_dir)"
   ]
  },
  {
   "cell_type": "markdown",
   "metadata": {},
   "source": [
    "Combine datasets that were splited"
   ]
  },
  {
   "cell_type": "code",
   "execution_count": 11,
   "metadata": {},
   "outputs": [],
   "source": [
    "df_orders_products_prior = duckdb.sql('SELECT * FROM \"order_products__prior.csv\"').df()\n",
    "df_orders_products_train = duckdb.sql('SELECT * FROM \"order_products__train.csv\"').df()"
   ]
  },
  {
   "cell_type": "markdown",
   "metadata": {},
   "source": [
    "## Generate DB"
   ]
  },
  {
   "cell_type": "code",
   "execution_count": 6,
   "metadata": {},
   "outputs": [],
   "source": [
    "# Create DB (embedded DBMS)\n",
    "conn = duckdb.connect('instacart.sqlite')\n",
    "c = conn.cursor()"
   ]
  },
  {
   "cell_type": "markdown",
   "metadata": {},
   "source": [
    "Create table in db"
   ]
  },
  {
   "cell_type": "code",
   "execution_count": 7,
   "metadata": {},
   "outputs": [],
   "source": [
    "c.sql(\"CREATE TABLE aisles AS SELECT * FROM read_csv_auto('aisles.csv');\")\n",
    "c.sql(\"CREATE TABLE departments AS SELECT * FROM read_csv_auto('departments.csv');\")\n",
    "c.sql(\"CREATE TABLE orders AS SELECT * FROM read_csv_auto('orders.csv');\")\n",
    "c.sql(\"CREATE TABLE products AS SELECT * FROM read_csv_auto('products.csv');\")\n",
    "c.sql(\"CREATE TABLE order_products AS SELECT * FROM df_order_products;\")\n"
   ]
  },
  {
   "cell_type": "code",
   "execution_count": 8,
   "metadata": {},
   "outputs": [],
   "source": [
    "# Close the connection\n",
    "conn.close()"
   ]
  }
 ],
 "metadata": {
  "kernelspec": {
   "display_name": "01_bi",
   "language": "python",
   "name": "python3"
  },
  "language_info": {
   "codemirror_mode": {
    "name": "ipython",
    "version": 3
   },
   "file_extension": ".py",
   "mimetype": "text/x-python",
   "name": "python",
   "nbconvert_exporter": "python",
   "pygments_lexer": "ipython3",
   "version": "3.12.2"
  },
  "orig_nbformat": 4
 },
 "nbformat": 4,
 "nbformat_minor": 2
}
